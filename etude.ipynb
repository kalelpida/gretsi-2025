{
 "cells": [
  {
   "cell_type": "markdown",
   "metadata": {},
   "source": [
    "Code pour la génération des résultats et images de l'article"
   ]
  },
  {
   "cell_type": "code",
   "execution_count": null,
   "metadata": {},
   "outputs": [],
   "source": [
    "import numpy as np\n",
    "import scipy, os, pickle, multiprocessing\n",
    "import matplotlib.pyplot as plt\n",
    "import sklearn\n",
    "import sklearn.cluster as skc\n",
    "import cvxpy as cp\n",
    "import scipy, re\n",
    "import pandas as pd\n",
    "\n",
    "%matplotlib qt"
   ]
  },
  {
   "cell_type": "markdown",
   "metadata": {},
   "source": [
    "## Fonctions"
   ]
  },
  {
   "cell_type": "code",
   "execution_count": 13,
   "metadata": {},
   "outputs": [],
   "source": [
    "def algoMaxscore(params, fonc, solspec, nit):\n",
    "    #Algo 2 du papier\n",
    "    # params : paramètres de la fonction objectif (matrice d'adjacence observée, autres paramètres p et q)\n",
    "    # fonc : une fonction objectif à maximiser\n",
    "    # solspec : solutions (listes de labels ) proposées par la méthode spectrale\n",
    "    # nit : nombre itérations\n",
    "    # ** renvoie la solution (liste de labels) maximisant `fonc` \n",
    "    solmax, fmax = None, -float('inf')\n",
    "    for sol_init in solspec:\n",
    "        sol, fsol, flabels = gibbsSampler([sol_init.copy(), *params], fonc, nit=nit)\n",
    "        if fsol>fmax:\n",
    "            fmax=fsol\n",
    "            solmax=sol\n",
    "    return solmax\n",
    "\n",
    "def algoSpectral(matbs, taillemax=10):\n",
    "    #Algo Shi & Malik 2000.  Partitionne avec Kmeans chaque matrice sur 2 à $taillemax classes.\n",
    "    # matbs : liste des matrices d'adjacence à partitionner\n",
    "    # taillemax : nombre maximal de classes.\n",
    "    # renvoie : listes de labels trouvés par Kmeans. Il y a $taillemax-2 propositions par matrice, chacune proposant un nombre différent de classes.\n",
    "    nbclus=min(taillemax, matbs[0].shape[0]+1)\n",
    "    solspec = np.empty([len(matbs), nbclus-2, matbs[0].shape[0]])\n",
    "    for h,mat in enumerate(matbs):\n",
    "        diag=np.sum(mat, axis=1)\n",
    "        lapl=(np.diag(diag)-mat)/diag[:, np.newaxis]#calcul du laplacien\n",
    "        valps, vecps = np.linalg.eig(lapl)\n",
    "        valps, vecps = np.real(valps), np.real(vecps)\n",
    "        vecps_tries = vecps[:, np.argsort(valps)] # trier les vecteurs propres en fonction des valeurs propres\n",
    "        retireprem=1*(np.var(vecps_tries[:, 0])<0.15*np.var(vecps_tries[:, 1])) # ignore le premier vecteur propre si sa variance est trop faible (il ne contient pas d'information permettant d'identifier les classes)\n",
    "        for i in range(2, nbclus):\n",
    "            algocls=skc.KMeans(i)\n",
    "            solspec[h,i-2] = algocls.fit_predict(vecps_tries[:, retireprem:i])\n",
    "    return solspec\n",
    "\n",
    "\n",
    "# Parallélisation des calculs pour un (grand) nombre de matrices d'adjacence.\n",
    "def calcExperience(i):\n",
    "    mat, solspec = lesmatbs[i], lessolspecs[i]\n",
    "    data={}\n",
    "    resultat_spec=solspec[nbclustheo-2]\n",
    "    data['spectral_brut'] = resultat_spec\n",
    "    data['spectral_ari'] = sklearn.metrics.cluster.adjusted_rand_score(leslabels, resultat_spec)\n",
    "    for fonc in lalistefoncs:\n",
    "        resultat=algoMaxscore([mat, *getparamat(i)], fonc, solspec, nit=nit)\n",
    "        data[fonc.__name__+'_brut'] = resultat\n",
    "        data[fonc.__name__+'_ari'] = sklearn.metrics.cluster.adjusted_rand_score(leslabels, resultat)\n",
    "    return data\n",
    "\n",
    "def initializer(listefoncs, labels, paramats, matbs, solspecs):\n",
    "    global lalistefoncs, leslabels, nbclustheo, theogroupes, nit, lesparamats, getparamat, lesmatbs, lessolspecs\n",
    "    nit = 20\n",
    "    leslabels = labels\n",
    "    nbclustheo = len(set(labels))\n",
    "    theogroupes =groupeSol(leslabels)\n",
    "    lesparamats=paramats\n",
    "    lalistefoncs=listefoncs\n",
    "    lesmatbs=matbs\n",
    "    lessolspecs=solspecs\n",
    "    if paramats is None:\n",
    "        getparamat = lambda i: (None, None)\n",
    "    elif len(paramats)==1:\n",
    "        getparamat = lambda i: lesparamats[0]\n",
    "    else:\n",
    "        getparamat = lambda i: lesparamats[i]\n",
    "        \n",
    "def teste_foncs_objectifs(matbs, listefoncs, labels, dparamats=None):\n",
    "    #calculs de partitions\n",
    "    # matbs : liste de matrices d'adjacence à partitionner\n",
    "    # listefoncs : liste de fonctions objectifs à maximiser pour trouver le partitionnement optimal\n",
    "    # labels : partition attendue. Supposée la même pour toutes les matrices\n",
    "    # dparamts : liste des paramètres de génération des matrices. \n",
    "    solspecs = algoSpectral(matbs)\n",
    "    with multiprocessing.Pool(processes=7, initializer=initializer, initargs=(listefoncs, labels, dparamats, matbs, solspecs)) as pool:\n",
    "        ress = pool.map(calcExperience, list(range(len(matbs))))\n",
    "    return pd.DataFrame.from_records(ress)"
   ]
  },
  {
   "cell_type": "markdown",
   "metadata": {},
   "source": [
    "## Modèle global - Planted partition model"
   ]
  },
  {
   "cell_type": "markdown",
   "metadata": {},
   "source": [
    "### Exemple"
   ]
  },
  {
   "cell_type": "code",
   "execution_count": null,
   "metadata": {},
   "outputs": [],
   "source": [
    "blocliste=[0, 72, 24, 72] #tailles des clusters de la diagonale\n",
    "mat=construit(blocliste) #matrice d'adjacence théorique\n",
    "labels=labelblocs(blocliste) #labels associés aux nœuds\n",
    "\n",
    "#paire des matrices (,q)\n",
    "# telle que p est associée à la probabilité de présence d'un lien entre deux nœuds théoriquement liés\n",
    "# et q est la probabilité de présence d'un lien entre deux nœuds théoriquement non liés\n",
    "\n",
    "dparamat=pmats(sum(blocliste), p=0.7, q=0.3)\n",
    "paramat=pmat_labels(labels, *dparamat)\n",
    "\n",
    "#création d'une matrice d'adjacence bruitée\n",
    "matb=brmat(paramat, graine=None)\n",
    "\n",
    "#Partitionne la matrice $matb avec les différentes méthodes (spectrale, maximum de vraisemblance, moduarité).\n",
    "#Les résultats sont contenus dans une DataFrame pandas\n",
    "pddat = teste_foncs_objectifs([matb], [vraiss, modularite], labels, [dparamat])"
   ]
  },
  {
   "cell_type": "code",
   "execution_count": 16,
   "metadata": {},
   "outputs": [
    {
     "data": {
      "text/html": [
       "<div>\n",
       "<style scoped>\n",
       "    .dataframe tbody tr th:only-of-type {\n",
       "        vertical-align: middle;\n",
       "    }\n",
       "\n",
       "    .dataframe tbody tr th {\n",
       "        vertical-align: top;\n",
       "    }\n",
       "\n",
       "    .dataframe thead th {\n",
       "        text-align: right;\n",
       "    }\n",
       "</style>\n",
       "<table border=\"1\" class=\"dataframe\">\n",
       "  <thead>\n",
       "    <tr style=\"text-align: right;\">\n",
       "      <th></th>\n",
       "      <th>spectral_brut</th>\n",
       "      <th>spectral_ari</th>\n",
       "      <th>vraiss_brut</th>\n",
       "      <th>vraiss_ari</th>\n",
       "      <th>modularite_brut</th>\n",
       "      <th>modularite_ari</th>\n",
       "    </tr>\n",
       "  </thead>\n",
       "  <tbody>\n",
       "    <tr>\n",
       "      <th>0</th>\n",
       "      <td>[0.0, 0.0, 0.0, 0.0, 0.0, 0.0, 0.0, 0.0, 0.0, ...</td>\n",
       "      <td>1.0</td>\n",
       "      <td>[0.0, 0.0, 0.0, 0.0, 0.0, 0.0, 0.0, 0.0, 0.0, ...</td>\n",
       "      <td>1.0</td>\n",
       "      <td>[0.0, 0.0, 0.0, 0.0, 0.0, 0.0, 0.0, 0.0, 0.0, ...</td>\n",
       "      <td>1.0</td>\n",
       "    </tr>\n",
       "  </tbody>\n",
       "</table>\n",
       "</div>"
      ],
      "text/plain": [
       "                                       spectral_brut  spectral_ari  \\\n",
       "0  [0.0, 0.0, 0.0, 0.0, 0.0, 0.0, 0.0, 0.0, 0.0, ...           1.0   \n",
       "\n",
       "                                         vraiss_brut  vraiss_ari  \\\n",
       "0  [0.0, 0.0, 0.0, 0.0, 0.0, 0.0, 0.0, 0.0, 0.0, ...         1.0   \n",
       "\n",
       "                                     modularite_brut  modularite_ari  \n",
       "0  [0.0, 0.0, 0.0, 0.0, 0.0, 0.0, 0.0, 0.0, 0.0, ...             1.0  "
      ]
     },
     "execution_count": 16,
     "metadata": {},
     "output_type": "execute_result"
    }
   ],
   "source": [
    "pddat"
   ]
  },
  {
   "cell_type": "code",
   "execution_count": null,
   "metadata": {},
   "outputs": [],
   "source": [
    "#affichage matrice des paramètres de la loi de Bernoulli\n",
    "plt.figure(figsize=(5,5.2))\n",
    "plt.imshow(paramat, vmin=0, vmax=1)\n",
    "plt.tick_params(labelsize=16)\n",
    "plt.xlabel('indices des nœuds', fontsize=16)\n",
    "plt.tight_layout()\n",
    "#plt.savefig(\"images/simulee_p07q03_param.pdf\")"
   ]
  },
  {
   "cell_type": "code",
   "execution_count": null,
   "metadata": {},
   "outputs": [],
   "source": [
    "#affiche une matrice d'adjacence suivant le modèle prédéfini\n",
    "plt.figure(figsize=(5,5.2))\n",
    "plt.imshow(matb, vmin=0, vmax=1)\n",
    "plt.tick_params(labelsize=16)\n",
    "plt.xlabel('indices des nœuds', fontsize=16)\n",
    "plt.tight_layout()\n",
    "#plt.savefig(\"images/simulee_p07q03_obs.pdf\")"
   ]
  },
  {
   "cell_type": "markdown",
   "metadata": {},
   "source": [
    "### Simulations\n",
    "\n",
    "Tests des méthodes spectrale, modularité et maximum de vraisemblance sur des matrices générées suivant le \"planted model\""
   ]
  },
  {
   "cell_type": "code",
   "execution_count": null,
   "metadata": {},
   "outputs": [],
   "source": [
    "nb_simus=2#60 dans le papier\n",
    "q=0.3\n",
    "pvals=np.arange(0.2, 0.9,0.03)\n",
    "\n",
    "blocliste=[0, 72, 24, 72]\n",
    "mat=construit(blocliste)\n",
    "labels=labelblocs(blocliste)"
   ]
  },
  {
   "cell_type": "code",
   "execution_count": null,
   "metadata": {},
   "outputs": [],
   "source": [
    "#calcul des performances des différents algorithmes sur des matrices simulées avec différents paramètres p. \n",
    "for p in pvals:\n",
    "    fic=f'calculs/modelepq_q{q:.2f}_p{p:.2f}.pickle'\n",
    "    if os.path.exists(fic):\n",
    "        continue\n",
    "    paramats = pmats(sum(blocliste), p=p, q=q)\n",
    "    matbs=[brmat(pmat_labels(labels, *paramats), graine=j) for j in range(nb_simus)]\n",
    "    pddat = teste_foncs_objectifs(matbs, [vraiss, modularite], labels, [paramats])\n",
    "    pddat.to_pickle(fic)"
   ]
  },
  {
   "cell_type": "code",
   "execution_count": 17,
   "metadata": {},
   "outputs": [],
   "source": [
    "#Collecte les résultats précédemment obtenus, calcule le score moyen en fonction du paramètre p. \n",
    "fics = set([glob.path for glob in os.scandir('calculs') if glob.name.startswith('modelepq_')])\n",
    "pattern = r'p([\\d.]+)'\n",
    "series = []\n",
    "for fic in fics:\n",
    "    pddat=pd.read_pickle(fic)\n",
    "    ser=pddat[[col for col in pddat.columns if not col.endswith('brut')]].mean()\n",
    "    ser['p']=float(re.search(pattern, fic.rstrip('.pickle')).group(1))\n",
    "    series.append(ser)\n",
    "\n",
    "#base de donnée des performances moyennes\n",
    "finale = pd.concat(series, axis=1).T.sort_values(by='p')"
   ]
  },
  {
   "cell_type": "code",
   "execution_count": 19,
   "metadata": {},
   "outputs": [],
   "source": [
    "plt.close('all')\n",
    "ax = finale.plot('p', [col for col in finale.columns if col.endswith('ari')], figsize=(10, 5), ylabel='ARI moyen')\n",
    "\n",
    "plt.tight_layout()\n",
    "#plt.savefig('images/simulee_q03_resultats_ari.pdf')"
   ]
  },
  {
   "cell_type": "markdown",
   "metadata": {},
   "source": [
    "## Modèle par nœuds"
   ]
  },
  {
   "cell_type": "markdown",
   "metadata": {},
   "source": [
    "### Exemple"
   ]
  },
  {
   "cell_type": "code",
   "execution_count": null,
   "metadata": {},
   "outputs": [],
   "source": [
    "blocliste=[0, 72, 24, 72]\n",
    "mat=construit(blocliste)\n",
    "labels=labelblocs(blocliste)\n",
    "\n",
    "def paramnds(blocliste, ecartmax=0.4, pmin=0.1, pmax=0.9, graine=None):\n",
    "    #fonction de génération de paramètres p,q aléatoires pour le modèle par nœuds\n",
    "    probas=np.empty((2, sum(blocliste)))\n",
    "    rng=np.random.default_rng(graine)\n",
    "    probas[1] = rng.uniform(pmin, pmax, sum(blocliste))\n",
    "    probas[0] = rng.uniform(np.maximum(pmin, probas[1]-ecartmax), np.minimum(pmax, probas[1]+ecartmax), sum(blocliste))\n",
    "\n",
    "    #trie pour s'assurer que probas[0] (qui est la liste des q_n) est inférieur en chaque valeur à probas[1] (la liste des p_n)\n",
    "    probas.sort(axis=0)\n",
    "\n",
    "    #trie les nœuds en fonction de p_n. Cela permet de mieux identifier les clusters visuellement.\n",
    "    cumblocliste=np.cumsum(np.concatenate(([0], blocliste)))\n",
    "    for deb, fin in zip(cumblocliste, cumblocliste[1:]):\n",
    "        sorted_indices = np.argsort(-probas[1, deb:fin])#trie selon p, ordre descendant\n",
    "        probas[:, deb:fin] = probas[:, deb+sorted_indices]\n",
    "    return probas\n",
    "\n",
    "qns, pns = paramnds(blocliste, ecartmax=0.3, pmin=0.1, pmax=0.9, graine=None) \n",
    "dparamat=pmats(sum(blocliste), p=pns, q=qns)\n",
    "paramat=pmat_labels(labels, *dparamat)\n",
    "matb=brmat(paramat, graine=None)\n"
   ]
  },
  {
   "cell_type": "code",
   "execution_count": null,
   "metadata": {},
   "outputs": [],
   "source": [
    "plt.figure(figsize=(5,5.2))\n",
    "plt.imshow(paramat, vmin=0, vmax=1)\n",
    "plt.tick_params(labelsize=16)\n",
    "plt.xlabel('indices des nœuds', fontsize=16)\n",
    "plt.tight_layout()\n",
    "#plt.savefig(\"images/simulee_pqnds_param.pdf\")"
   ]
  },
  {
   "cell_type": "code",
   "execution_count": null,
   "metadata": {},
   "outputs": [],
   "source": [
    "plt.figure(figsize=(5,5.2))\n",
    "plt.imshow(matb, vmin=0, vmax=1)\n",
    "plt.tick_params(labelsize=16)\n",
    "plt.xlabel('indices des nœuds', fontsize=16)\n",
    "plt.tight_layout()\n",
    "#plt.savefig(\"images/simulee_pqnds_obs.pdf\")"
   ]
  },
  {
   "cell_type": "markdown",
   "metadata": {},
   "source": [
    "### Simulations"
   ]
  },
  {
   "cell_type": "code",
   "execution_count": null,
   "metadata": {},
   "outputs": [],
   "source": [
    "nb_simus=2#60\n",
    "pmin, pmax= 0.1, 0.9\n",
    "evals=np.arange(0.1, 0.7, 0.03)#valeurs prises par e, l'écart max entre p_n et q_n\n",
    "\n",
    "blocliste=[0, 72, 24, 72]\n",
    "mat=construit(blocliste)\n",
    "labels=labelblocs(blocliste)"
   ]
  },
  {
   "cell_type": "code",
   "execution_count": null,
   "metadata": {},
   "outputs": [],
   "source": [
    "#calcul des performances des différents algorithmes sur des matrices simulées avec différents paramètres e. \n",
    "for e in evals:\n",
    "    fic=f'calculs/modelpqn_e{e:.2f}.pickle'\n",
    "    if os.path.exists(fic):\n",
    "        continue\n",
    "    desparamnoeuds = np.array([paramnds(blocliste, ecartmax=e, pmin=pmin, pmax=pmax, graine=i) for i in range(nb_simus)])\n",
    "    dparamats=[pmats(sum(blocliste), p=elt[1], q=elt[0]) for elt in desparamnoeuds]\n",
    "    matbs=[brmat(pmat_labels(labels, *dparamat), graine=j) for j,dparamat in enumerate(dparamats)]\n",
    "    pddat = teste_foncs_objectifs(matbs, [vraiss, modularite], labels, [paramats])\n",
    "    pddat.to_pickle(fic)"
   ]
  },
  {
   "cell_type": "code",
   "execution_count": 20,
   "metadata": {},
   "outputs": [],
   "source": [
    "#Collecte les résultats précédemment obtenus, calcule le score moyen en fonction du paramètre e. \n",
    "fics = set([glob.path for glob in os.scandir('calculs') if glob.name.startswith('modelepqn_')])\n",
    "\n",
    "pattern = r'e([\\d.]+)'\n",
    "series = []\n",
    "for fic in fics:\n",
    "    pddat=pd.read_pickle(fic)\n",
    "    ser=pddat[[col for col in pddat.columns if not col.endswith('brut')]].mean()\n",
    "    ser['e']=float(re.search(pattern, fic.rstrip('.pickle')).group(1))\n",
    "    series.append(ser)\n",
    "finale = pd.concat(series, axis=1).T.sort_values(by='e')"
   ]
  },
  {
   "cell_type": "code",
   "execution_count": 21,
   "metadata": {},
   "outputs": [],
   "source": [
    "plt.close('all')\n",
    "ax = finale.plot('e', [col for col in finale.columns if col.endswith('ari')], figsize=(10, 5), ylabel='ARI')\n",
    "\n",
    "plt.tight_layout()\n",
    "#plt.savefig(\"images/simulee_pqn_resultats_ari.pdf\")\n",
    "plt.savefig(\"images/simulee_pqn_resultats_ari.pdf\")"
   ]
  },
  {
   "cell_type": "markdown",
   "metadata": {},
   "source": [
    "## Experiences\n",
    "\n",
    "Les matrices d'adjacences sont issues de test de présence de goulot entre des flux de paquets dans des réseaux émulées.\n",
    "Ces flots ont été ordonnés connaissant la vérité terrain. Les matrices d'adjacence théoriques sont identiques à celle présentée dans les données simulées."
   ]
  },
  {
   "cell_type": "markdown",
   "metadata": {},
   "source": [
    "### Experience 1\n",
    "\n",
    "Expérience non présentée dans l'article. Il suffit de voir la matrice pour identifier les goulots."
   ]
  },
  {
   "cell_type": "code",
   "execution_count": 22,
   "metadata": {},
   "outputs": [],
   "source": [
    "matb=np.load('donnees/experience1_facile.npy')#charge les résultats\n",
    "blocliste=[0, 72, 24, 72]\n",
    "mat=construit(blocliste)\n",
    "labels=labelblocs(blocliste)\n"
   ]
  },
  {
   "cell_type": "code",
   "execution_count": null,
   "metadata": {},
   "outputs": [],
   "source": [
    "#résolution avec la méthode spectrale et la modularité. Le calcul de la vraisemblance n'est pas possible car les paramètres sont inconnus\n",
    "pddat = teste_foncs_objectifs([matb], [modularite], labels, dparamats=None)"
   ]
  },
  {
   "cell_type": "code",
   "execution_count": null,
   "metadata": {},
   "outputs": [],
   "source": [
    "pddat"
   ]
  },
  {
   "cell_type": "code",
   "execution_count": null,
   "metadata": {},
   "outputs": [],
   "source": [
    "plt.figure(figsize=(5,5.2))\n",
    "plt.imshow(matb)\n",
    "plt.tick_params(labelsize=16)\n",
    "plt.xlabel('indices des nœuds', fontsize=16)\n",
    "plt.tight_layout()\n",
    "#plt.savefig(\"images/emulee_obs1.pdf\")"
   ]
  },
  {
   "cell_type": "code",
   "execution_count": null,
   "metadata": {},
   "outputs": [],
   "source": [
    "plt.figure(figsize=(5,5.2))\n",
    "plt.imshow(mat)\n",
    "plt.tick_params(labelsize=1)\n",
    "plt.tight_layout()\n",
    "#plt.savefig(\"images/emulee_theo.pdf\")"
   ]
  },
  {
   "cell_type": "markdown",
   "metadata": {},
   "source": [
    "### Experience 2\n",
    "\n",
    "Expérience dont les tests de présence de goulot ont été présentés dans l'article. Des files d'attente en amont rendent les goulots d'étranglements un peu plus difficiles à identifier que dans l'expérience 1."
   ]
  },
  {
   "cell_type": "code",
   "execution_count": null,
   "metadata": {},
   "outputs": [],
   "source": [
    "matb=np.load('donnees/experience2.npy')\n",
    "blocliste=[0, 72, 24, 72]\n",
    "mat=construit(blocliste)#matrice théorique\n",
    "labels=labelblocs(blocliste)"
   ]
  },
  {
   "cell_type": "code",
   "execution_count": null,
   "metadata": {},
   "outputs": [],
   "source": [
    "#résolution avec la méthode spectrale et la modularité. Le calcul de la vraisemblance n'est pas possible car les paramètres sont inconnus\n",
    "pddat = teste_foncs_objectifs([matb], [modularite], labels, dparamats=None)"
   ]
  },
  {
   "cell_type": "code",
   "execution_count": null,
   "metadata": {},
   "outputs": [],
   "source": [
    "pddat"
   ]
  },
  {
   "cell_type": "code",
   "execution_count": null,
   "metadata": {},
   "outputs": [],
   "source": [
    "plt.figure(figsize=(5,5.2))\n",
    "plt.imshow(matb)\n",
    "plt.tick_params(labelsize=16)\n",
    "plt.xlabel('indices des nœuds', fontsize=16)\n",
    "plt.tight_layout()\n",
    "#plt.savefig(\"images/emulee_obs2.pdf\")"
   ]
  },
  {
   "cell_type": "code",
   "execution_count": null,
   "metadata": {},
   "outputs": [],
   "source": [
    "plt.figure(figsize=(5,5.2))\n",
    "plt.imshow(mat)\n",
    "plt.tick_params(labelsize=1)\n",
    "plt.xlabel('indices des nœuds', fontsize=16)\n",
    "plt.tight_layout()\n",
    "#plt.savefig(\"images/emulee_theo.pdf\")"
   ]
  },
  {
   "cell_type": "markdown",
   "metadata": {},
   "source": [
    "## Estimation des paramètres de la matrice"
   ]
  },
  {
   "cell_type": "code",
   "execution_count": null,
   "metadata": {},
   "outputs": [],
   "source": [
    "# estimation des listes de paramètres p_n, q_n de la dernière matrice matb à partir de la somme des résultats\n",
    "# Cette méthode peut être optimisée en estimant un maximum de vraisemblance. \n",
    "# Le coût sera probablement bien plus élevé que résoudre ce système de type Ax=b sous contrainte.\n",
    "somlignp = np.sum(mat*matb, axis=1)\n",
    "matlignp = mat/2\n",
    "matlignp[np.diag_indices_from(matlignp)] = (np.sum(mat, axis=1)+1)/2\n",
    "amat = (1-mat)\n",
    "somlignq = np.sum(amat*matb, axis=1)\n",
    "matlignq = amat/2+np.diag(np.sum(amat, axis=1))/2\n",
    "\n",
    "eps=1e-10#pour gérer les erreurs de log\n",
    "qns = cp.Variable(len(matlignq))\n",
    "pns = cp.Variable(len(matlignp))\n",
    "\n",
    "objective = cp.Minimize(cp.sum_squares(matlignp @ pns - somlignp)+cp.sum_squares(matlignq @ qns - somlignq))\n",
    "constraints = [eps <= pns, pns <= 1-eps, eps <= qns, qns <= 1-eps, qns<=pns]\n",
    "prob = cp.Problem(objective, constraints)\n",
    "result = prob.solve()"
   ]
  },
  {
   "cell_type": "code",
   "execution_count": null,
   "metadata": {},
   "outputs": [],
   "source": [
    "#calcul des matrices paramètres associées aux p_n et q_n trouvés\n",
    "dparamat=pmats(sum(blocliste), p=np.clip(pns.value, eps, 1-eps), q=np.clip(qns.value, eps, 1-eps))\n",
    "paramat=pmat_labels(labels, *dparamat)\n",
    "\n",
    "#exemple présenté dans l'article.\n",
    "matb2=brmat(paramat, graine=13)\n",
    "pddat = complet([matb2], [mod_bloc, vraiss], labels, dparamats=[dparamat])"
   ]
  },
  {
   "cell_type": "code",
   "execution_count": null,
   "metadata": {},
   "outputs": [],
   "source": [
    "#autres réalisations de matrices d'adjacences associées au modèle par nœuds estimé. Prend un peu de temps.\n",
    "#pddat = complet([brmat(paramat, graine=i) for i in range(14)], [modularite, vraiss], labels, dparamats=[dparamat])"
   ]
  },
  {
   "cell_type": "code",
   "execution_count": null,
   "metadata": {},
   "outputs": [],
   "source": [
    "plt.figure(figsize=(5,5.2))\n",
    "plt.imshow(matb2, vmin=0, vmax=1)\n",
    "plt.tick_params(labelsize=16)\n",
    "plt.xlabel('indices des nœuds', fontsize=16)\n",
    "plt.tight_layout()\n",
    "#plt.savefig(\"/home/paul/Documents/paul-grislain/rédaction/gretsi/images/simule_expe2.pdf\")"
   ]
  }
 ],
 "metadata": {
  "kernelspec": {
   "display_name": "Python 3",
   "language": "python",
   "name": "python3"
  },
  "language_info": {
   "codemirror_mode": {
    "name": "ipython",
    "version": 3
   },
   "file_extension": ".py",
   "mimetype": "text/x-python",
   "name": "python",
   "nbconvert_exporter": "python",
   "pygments_lexer": "ipython3",
   "version": "3.13.2"
  }
 },
 "nbformat": 4,
 "nbformat_minor": 2
}
